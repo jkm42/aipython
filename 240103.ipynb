{
  "nbformat": 4,
  "nbformat_minor": 0,
  "metadata": {
    "colab": {
      "provenance": [],
      "authorship_tag": "ABX9TyMcN1CH832vVOJXQYw2d3HM",
      "include_colab_link": true
    },
    "kernelspec": {
      "name": "python3",
      "display_name": "Python 3"
    },
    "language_info": {
      "name": "python"
    }
  },
  "cells": [
    {
      "cell_type": "markdown",
      "metadata": {
        "id": "view-in-github",
        "colab_type": "text"
      },
      "source": [
        "<a href=\"https://colab.research.google.com/github/jkm42/aipython/blob/main/240103.ipynb\" target=\"_parent\"><img src=\"https://colab.research.google.com/assets/colab-badge.svg\" alt=\"Open In Colab\"/></a>"
      ]
    },
    {
      "cell_type": "code",
      "source": [
        "a = 10\n",
        "\n",
        "if a > 5:\n",
        "  print(\"a는 5보다 크다.\")\n",
        "print(\"end\")"
      ],
      "metadata": {
        "colab": {
          "base_uri": "https://localhost:8080/"
        },
        "id": "C2As_Ilq6lzP",
        "outputId": "448c7c91-f1ba-4551-9f45-3b00c44306e6"
      },
      "execution_count": 3,
      "outputs": [
        {
          "output_type": "stream",
          "name": "stdout",
          "text": [
            "a는 5보다 크다.\n",
            "end\n"
          ]
        }
      ]
    },
    {
      "cell_type": "code",
      "source": [
        "a = 2\n",
        "\n",
        "if a > 5:\n",
        "  print(\"a는 5보다 크다.\")\n",
        "print(\"end\")"
      ],
      "metadata": {
        "colab": {
          "base_uri": "https://localhost:8080/"
        },
        "id": "4tiGuBAg7Uu6",
        "outputId": "99ff26ae-e45c-4738-8d6d-054addfee29a"
      },
      "execution_count": 4,
      "outputs": [
        {
          "output_type": "stream",
          "name": "stdout",
          "text": [
            "end\n"
          ]
        }
      ]
    },
    {
      "cell_type": "code",
      "source": [
        "a = 5\n",
        "\n",
        "if a > 5:\n",
        "  print(\"a는 5보다 크다.\")\n",
        "  print(\"end\")"
      ],
      "metadata": {
        "id": "S3dWUDGh7kYc"
      },
      "execution_count": 5,
      "outputs": []
    },
    {
      "cell_type": "code",
      "source": [
        "a = int(input(\"정수 a를 입력하라.:\"))\n",
        "\n",
        "if a > 5:\n",
        "  print(\"a는 5보다 크다.\")\n",
        "elif a < 5:\n",
        "  print(\"a는 5보다 작다.\")\n",
        "else:\n",
        "  print(\"a=5\")"
      ],
      "metadata": {
        "colab": {
          "base_uri": "https://localhost:8080/"
        },
        "id": "Nnrk6weQ77Tx",
        "outputId": "80927055-48c6-48e1-b720-d156dc13da13"
      },
      "execution_count": 22,
      "outputs": [
        {
          "output_type": "stream",
          "name": "stdout",
          "text": [
            "정수 a를 입력하라.:55\n",
            "a는 5보다 크다.\n"
          ]
        }
      ]
    },
    {
      "cell_type": "code",
      "source": [
        "\"gender = \"M\"\n",
        "if gender == 'M':\n",
        "  print(\"남성입니다.\")\n",
        "else:\n",
        "  print(\"여성입니다.\")"
      ],
      "metadata": {
        "colab": {
          "base_uri": "https://localhost:8080/"
        },
        "id": "Svm5d6NR8SQx",
        "outputId": "24d2b8b6-13b7-42d3-91f0-4532104c84a2"
      },
      "execution_count": 20,
      "outputs": [
        {
          "output_type": "stream",
          "name": "stdout",
          "text": [
            "남성입니다.\n"
          ]
        }
      ]
    },
    {
      "cell_type": "code",
      "source": [
        "a = float(input(\"0~100까지의 점수를 입력하시오.:\"))\n",
        "if a>=60 and a<=100:\n",
        "  print(\"A\")\n",
        "elif a>=30:\n",
        "  print(\"B\")\n",
        "elif a>=10:\n",
        "  print(\"C\")\n",
        "else:\n",
        "  print(\"F\")"
      ],
      "metadata": {
        "colab": {
          "base_uri": "https://localhost:8080/"
        },
        "id": "ln4lwyiH97TR",
        "outputId": "4053ce3c-95c1-4264-eee8-1b0bd6cc2b5f"
      },
      "execution_count": 36,
      "outputs": [
        {
          "output_type": "stream",
          "name": "stdout",
          "text": [
            "0~100까지의 점수를 입력하시오.:90\n",
            "A\n"
          ]
        }
      ]
    },
    {
      "cell_type": "code",
      "source": [
        "a = 10\n",
        "b = 5\n",
        "\n",
        "if a > 5:\n",
        "  if b < 10:\n",
        "    print(\"a는 5보다 크고 b는 10보다 작습니다.\")"
      ],
      "metadata": {
        "colab": {
          "base_uri": "https://localhost:8080/"
        },
        "id": "IJ4mdQmPBWBY",
        "outputId": "1f6c9269-8b79-496e-ee6d-65595ea77847"
      },
      "execution_count": 37,
      "outputs": [
        {
          "output_type": "stream",
          "name": "stdout",
          "text": [
            "a는 5보다 크고 b는 10보다 작습니다.\n"
          ]
        }
      ]
    },
    {
      "cell_type": "code",
      "source": [
        "a = 10\n",
        "b = 5\n",
        "\n",
        "if a > 5 and b < 10:\n",
        "    print(\"a는 5보다 크고 b는 10보다 작습니다.\")"
      ],
      "metadata": {
        "colab": {
          "base_uri": "https://localhost:8080/"
        },
        "id": "u5PiMhV4B3xx",
        "outputId": "43fd93b6-2962-4ba5-c775-683652ad53ed"
      },
      "execution_count": 38,
      "outputs": [
        {
          "output_type": "stream",
          "name": "stdout",
          "text": [
            "a는 5보다 크고 b는 10보다 작습니다.\n"
          ]
        }
      ]
    },
    {
      "cell_type": "code",
      "source": [
        "a = [1,2,3,4,5]\n",
        "for i in a:\n",
        "  print(i)\n",
        "for i in a:\n",
        "  print(i,end=\"\")"
      ],
      "metadata": {
        "colab": {
          "base_uri": "https://localhost:8080/"
        },
        "id": "9zAE1EVYC92R",
        "outputId": "4f33f8e9-1e5a-4b63-ee75-a689b94cf278"
      },
      "execution_count": 43,
      "outputs": [
        {
          "output_type": "stream",
          "name": "stdout",
          "text": [
            "1\n",
            "2\n",
            "3\n",
            "4\n",
            "5\n",
            "12345"
          ]
        }
      ]
    },
    {
      "cell_type": "code",
      "source": [
        "for i in range(1, 10, 2):\n",
        "  print(i)\n",
        "print(\"===============\")\n",
        "for i in range(10):\n",
        "  print(i)"
      ],
      "metadata": {
        "colab": {
          "base_uri": "https://localhost:8080/"
        },
        "id": "4XTNHXj-ERxx",
        "outputId": "e7d4032d-5c2a-4c8c-fd07-1177e367fe70"
      },
      "execution_count": 52,
      "outputs": [
        {
          "output_type": "stream",
          "name": "stdout",
          "text": [
            "1\n",
            "3\n",
            "5\n",
            "7\n",
            "9\n",
            "===============\n",
            "0\n",
            "1\n",
            "2\n",
            "3\n",
            "4\n",
            "5\n",
            "6\n",
            "7\n",
            "8\n",
            "9\n"
          ]
        }
      ]
    },
    {
      "cell_type": "code",
      "source": [
        "n = int(input())\n",
        "sum = 0\n",
        "for i in range(n+1):\n",
        "  sum = sum + i\n",
        "print(sum)"
      ],
      "metadata": {
        "colab": {
          "base_uri": "https://localhost:8080/"
        },
        "id": "iC_a3OoRER2x",
        "outputId": "9624ebb7-9310-4bc6-f3dd-6cbe4aff7155"
      },
      "execution_count": 64,
      "outputs": [
        {
          "output_type": "stream",
          "name": "stdout",
          "text": [
            "3\n",
            "6\n"
          ]
        }
      ]
    },
    {
      "cell_type": "code",
      "source": [
        "A = int(input())\n",
        "B = int(input())\n",
        "C = int(input())\n",
        "\n",
        "if A<B and B<C or C<B and B<A:\n",
        "  print(B)\n",
        "elif B<A and A<C or C<A and A<B:\n",
        "  print(A)\n",
        "else:\n",
        "  print(C)"
      ],
      "metadata": {
        "colab": {
          "base_uri": "https://localhost:8080/"
        },
        "id": "5F0uJW-UKhdR",
        "outputId": "28cf7f78-ec4d-4fa1-9286-8d615472088b"
      },
      "execution_count": 67,
      "outputs": [
        {
          "output_type": "stream",
          "name": "stdout",
          "text": [
            "20\n",
            "10\n",
            "30\n",
            "20\n"
          ]
        }
      ]
    },
    {
      "cell_type": "code",
      "source": [
        "#함수(function)\n",
        "def add(x,y):\n",
        "  s = x + y\n",
        "  a = s/2\n",
        "  return s, a\n",
        "\n",
        "h, a = add(10,20)\n",
        "print(\"합:\",h,\"평균:\",a)\n",
        "print(\"합:\",h,\"평균:\",int(a))\n",
        "\n",
        "hap, avg = add(10,20)\n",
        "print(\"합:%d 평균: %.2f\"%(hap,avg))"
      ],
      "metadata": {
        "colab": {
          "base_uri": "https://localhost:8080/"
        },
        "id": "mM9Q20SkOn8p",
        "outputId": "08816411-5ddf-4934-8597-d6b274405470"
      },
      "execution_count": 72,
      "outputs": [
        {
          "output_type": "stream",
          "name": "stdout",
          "text": [
            "합: 30 평균: 15.0\n",
            "합: 30 평균: 15\n",
            "합:30 평균: 15.00\n"
          ]
        }
      ]
    },
    {
      "cell_type": "code",
      "source": [
        "#Program 4.2 auto_repair_payroll.py\n",
        "BASE_HOURS = 40\n",
        "OT_MULTIPLIER = 1.5"
      ],
      "metadata": {
        "id": "jLbtMwX_SjWC"
      },
      "execution_count": null,
      "outputs": []
    },
    {
      "cell_type": "code",
      "source": [
        "#Program 4.5 grader.py\n",
        "#Program 4.6 grader2.py\n",
        "A_SCORE = 90\n",
        "B_SCORE = 80\n",
        "C_SCORE = 70\n",
        "D_SCORE = 60\n",
        "\n",
        "def main():\n",
        "  score = int(input(\"점수를 입력하시오:\"))\n",
        "  if score>=A_SCORE:\n",
        "    print(\"Your grade is A\")\n",
        "  elif score>=B_SCORE:\n",
        "    print(\"Your grade is B\")\n",
        "  elif score>=C_SCORE:\n",
        "    print(\"Your grade is C\")\n",
        "  else:\n",
        "    print(\"Your grade is D\")\n",
        "\n",
        "main()\n"
      ],
      "metadata": {
        "colab": {
          "base_uri": "https://localhost:8080/"
        },
        "id": "EKx8mMJnTDOg",
        "outputId": "66f9e804-40e4-41b6-90ec-f42e80d7a167"
      },
      "execution_count": 76,
      "outputs": [
        {
          "output_type": "stream",
          "name": "stdout",
          "text": [
            "점수를 입력하시오:50\n",
            "Your grade is D\n"
          ]
        }
      ]
    },
    {
      "cell_type": "code",
      "source": [
        "#Program 5.5 simple_loop1.py\n",
        "def main():\n",
        "  print(\"I'll display the numbers 1 through 5\")\n",
        "  for num in [1,2,3,4,5]:\n",
        "    print(num)\n",
        "main()"
      ],
      "metadata": {
        "colab": {
          "base_uri": "https://localhost:8080/"
        },
        "id": "XbQ3t5iZT684",
        "outputId": "447f0476-65d3-4b54-9a86-45643517bb82"
      },
      "execution_count": 77,
      "outputs": [
        {
          "output_type": "stream",
          "name": "stdout",
          "text": [
            "I'll display the numbers 1 through 5\n",
            "1\n",
            "2\n",
            "3\n",
            "4\n",
            "5\n"
          ]
        }
      ]
    },
    {
      "cell_type": "code",
      "source": [
        "#Program 5.8 simple_loop4.py\n",
        "def main():\n",
        "  for x in range(5):\n",
        "    print(x)\n",
        "  for x in range(5):\n",
        "    print(\"Hello World\")\n",
        "main()"
      ],
      "metadata": {
        "colab": {
          "base_uri": "https://localhost:8080/"
        },
        "id": "l07vFigjUU4Z",
        "outputId": "a69bb03f-a015-483c-dbf9-ac8819243a6a"
      },
      "execution_count": 79,
      "outputs": [
        {
          "output_type": "stream",
          "name": "stdout",
          "text": [
            "0\n",
            "1\n",
            "2\n",
            "3\n",
            "4\n",
            "Hello World\n",
            "Hello World\n",
            "Hello World\n",
            "Hello World\n",
            "Hello World\n"
          ]
        }
      ]
    },
    {
      "cell_type": "code",
      "source": [
        "#Program 5.9 squares.py\n",
        "# 1부터 10까지 제곱값 계산하기\n",
        "def main():\n",
        "  print('Number\\tSquare')\n",
        "  print('------------')\n",
        "  for number in range(1,11):\n",
        "    square = number**2\n",
        "    print(number,'\\t',square)\n",
        "\n",
        "main()"
      ],
      "metadata": {
        "colab": {
          "base_uri": "https://localhost:8080/"
        },
        "id": "bWpA5-clUn7B",
        "outputId": "43a6a73c-264c-4b6d-ab8e-e650d2db3e17"
      },
      "execution_count": 80,
      "outputs": [
        {
          "output_type": "stream",
          "name": "stdout",
          "text": [
            "Number\tSquare\n",
            "------------\n",
            "1 \t 1\n",
            "2 \t 4\n",
            "3 \t 9\n",
            "4 \t 16\n",
            "5 \t 25\n",
            "6 \t 36\n",
            "7 \t 49\n",
            "8 \t 64\n",
            "9 \t 81\n",
            "10 \t 100\n"
          ]
        }
      ]
    },
    {
      "cell_type": "code",
      "source": [
        "#Program 5.15 rectangular_pattern.py\n",
        "# for 중첩\n",
        "rows = int(input('How many rows?:'))\n",
        "columns = int(input('How many columns?:'))\n",
        "\n",
        "for r in range(rows):\n",
        "  for c in range(columns):\n",
        "    print('*',end='')\n",
        "  print() #개행을 위함"
      ],
      "metadata": {
        "colab": {
          "base_uri": "https://localhost:8080/"
        },
        "id": "8AVuaEJoVYmI",
        "outputId": "79398f45-8a98-4aa1-effc-7c212726b95c"
      },
      "execution_count": 1,
      "outputs": [
        {
          "output_type": "stream",
          "name": "stdout",
          "text": [
            "How many rows?:10\n",
            "How many columns?:5\n",
            "*****\n",
            "*****\n",
            "*****\n",
            "*****\n",
            "*****\n",
            "*****\n",
            "*****\n",
            "*****\n",
            "*****\n",
            "*****\n"
          ]
        }
      ]
    },
    {
      "cell_type": "code",
      "source": [
        "#Program 5.16 triangle_pattern.py\n",
        "BASE_SIZE = 8\n",
        "\n",
        "for r in range(BASE_SIZE):\n",
        "  for c in range(r+1):\n",
        "    print(\"*\",end=\"\")\n",
        "  print()"
      ],
      "metadata": {
        "colab": {
          "base_uri": "https://localhost:8080/"
        },
        "id": "ehbzCu3nWXab",
        "outputId": "8f46bfbb-0737-4eed-e948-2026c4b974ff"
      },
      "execution_count": 3,
      "outputs": [
        {
          "output_type": "stream",
          "name": "stdout",
          "text": [
            "*\n",
            "**\n",
            "***\n",
            "****\n",
            "*****\n",
            "******\n",
            "*******\n",
            "********\n"
          ]
        }
      ]
    },
    {
      "cell_type": "code",
      "source": [
        "#Program 5.16.2 triangle_pattern2.py\n",
        "BASE_SIZE = 8\n",
        "for r in range(BASE_SIZE):\n",
        "  for c in range(BASE_SIZE-r):\n",
        "    print(\"*\",end=\"\")\n",
        "  print()"
      ],
      "metadata": {
        "colab": {
          "base_uri": "https://localhost:8080/"
        },
        "id": "gxv3KlwYWxYi",
        "outputId": "2b0868d8-0032-42e4-8536-72c5c6f158de"
      },
      "execution_count": 6,
      "outputs": [
        {
          "output_type": "stream",
          "name": "stdout",
          "text": [
            "********\n",
            "*******\n",
            "******\n",
            "*****\n",
            "****\n",
            "***\n",
            "**\n",
            "*\n"
          ]
        }
      ]
    }
  ]
}