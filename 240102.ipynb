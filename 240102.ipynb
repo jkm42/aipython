{
  "nbformat": 4,
  "nbformat_minor": 0,
  "metadata": {
    "colab": {
      "provenance": [],
      "authorship_tag": "ABX9TyMY1n3lJBEI+Ag3fp90NenU"
    },
    "kernelspec": {
      "name": "python3",
      "display_name": "Python 3"
    },
    "language_info": {
      "name": "python"
    }
  },
  "cells": [
    {
      "cell_type": "code",
      "execution_count": null,
      "metadata": {
        "colab": {
          "base_uri": "https://localhost:8080/"
        },
        "id": "md-jlt22vW-b",
        "outputId": "c9ce0bb1-99d6-469e-fb05-489fed86d2ca"
      },
      "outputs": [
        {
          "output_type": "stream",
          "name": "stdout",
          "text": [
            "40\n"
          ]
        }
      ],
      "source": [
        "#변수 선언 및 초기화\n",
        "number = 10\n",
        "\n",
        "#변수 값 변경\n",
        "number = 20\n",
        "\n",
        "#변수를 이용한 계산\n",
        "result = number * 2\n",
        "\n",
        "#변수 값 출력\n",
        "print(result)"
      ]
    },
    {
      "cell_type": "code",
      "source": [
        "#나이 입력 후 출력\n",
        "a = input(\"당신의 나이는?\")\n",
        "print(a, \"살이군요\")\n",
        "print(type(a))"
      ],
      "metadata": {
        "colab": {
          "base_uri": "https://localhost:8080/"
        },
        "id": "5_QcgiGD2esb",
        "outputId": "20d4d427-30f4-47cf-91b3-a59d944905c2"
      },
      "execution_count": null,
      "outputs": [
        {
          "output_type": "stream",
          "name": "stdout",
          "text": [
            "당신의 나이는?29\n",
            "29 살이군요\n",
            "<class 'str'>\n"
          ]
        }
      ]
    },
    {
      "cell_type": "code",
      "source": [
        "#나이 입력 후 내년 나이 출력\n",
        "a = input(\"당신의 나이는?\")\n",
        "print(a,\"살이군요\")\n",
        "b= int(a)\n",
        "print(\"내년엔\", b+1,\"살이 되네요\")"
      ],
      "metadata": {
        "colab": {
          "base_uri": "https://localhost:8080/"
        },
        "id": "3AzQywoC2Me7",
        "outputId": "371c085c-36c8-4e57-9721-7fa858f875ac"
      },
      "execution_count": null,
      "outputs": [
        {
          "output_type": "stream",
          "name": "stdout",
          "text": [
            "당신의 나이는?12\n",
            "12 살이군요\n",
            "내년엔 13 살이 되네요\n"
          ]
        }
      ]
    },
    {
      "cell_type": "code",
      "source": [
        "# 문자열 나이를 정수 나이로\n",
        "a = input(\"당신의 나이는?\")\n",
        "print(a,\"살이군요\")\n",
        "print(\"내년엔\", int(a)+1,\"살이 되네요\")"
      ],
      "metadata": {
        "colab": {
          "base_uri": "https://localhost:8080/"
        },
        "id": "Z-Hj3sRm3pNr",
        "outputId": "5706ba28-53f6-43b6-b5dc-e12cea28182c"
      },
      "execution_count": null,
      "outputs": [
        {
          "output_type": "stream",
          "name": "stdout",
          "text": [
            "당신의 나이는?1324\n",
            "1324 살이군요\n",
            "내년엔 1325 살이 되네요\n"
          ]
        }
      ]
    },
    {
      "cell_type": "code",
      "source": [
        "# 정수 나이를 문자열 나이로\n",
        "a = int(input(\"당신의 나이는?\"))\n",
        "msg = str(a) + \"살이군요\"\n",
        "print(msg)\n",
        "print(\"내년엔\",a+1,\"살이 되네요\")"
      ],
      "metadata": {
        "colab": {
          "base_uri": "https://localhost:8080/"
        },
        "id": "CjkPtS_w4OHj",
        "outputId": "76a200cb-a791-4dea-cdb1-3b5cb68e99eb"
      },
      "execution_count": null,
      "outputs": [
        {
          "output_type": "stream",
          "name": "stdout",
          "text": [
            "당신의 나이는?51232\n",
            "51232살이군요\n",
            "내년엔 51233 살이 되네요\n"
          ]
        }
      ]
    },
    {
      "cell_type": "code",
      "source": [
        "# 출력, 서식 문자열\n",
        "a = \"파이썬\"\n",
        "print(a,\"아 반가워\")\n",
        "msg = a + \"아 반가워\"\n",
        "print(msg)"
      ],
      "metadata": {
        "colab": {
          "base_uri": "https://localhost:8080/"
        },
        "id": "RJ5KnOHU55G7",
        "outputId": "7af0fb8b-1688-4d0f-b579-7a8ad2d9246a"
      },
      "execution_count": null,
      "outputs": [
        {
          "output_type": "stream",
          "name": "stdout",
          "text": [
            "파이썬 아 반가워\n",
            "파이썬아 반가워\n"
          ]
        }
      ]
    },
    {
      "cell_type": "code",
      "source": [
        "# 출력, 형식 지정자(대입)\n",
        "# %s 문자열 출력\n",
        "a = \"파이썬\"\n",
        "print(\"%s아 반가워\"%a)\n",
        "\n",
        "# %f\n",
        "a = 123.456\n",
        "print(\"%3.1f\" %a)"
      ],
      "metadata": {
        "colab": {
          "base_uri": "https://localhost:8080/"
        },
        "id": "L4xMPVc86lvj",
        "outputId": "0c3db6b2-b417-4811-e97b-5a8137ed12b7"
      },
      "execution_count": null,
      "outputs": [
        {
          "output_type": "stream",
          "name": "stdout",
          "text": [
            "파이썬아 반가워\n",
            "123.5\n"
          ]
        }
      ]
    },
    {
      "cell_type": "code",
      "source": [
        "# 출력, format\n",
        "print(\"오늘은 {}월 {}일입니다\".format(6,26))"
      ],
      "metadata": {
        "colab": {
          "base_uri": "https://localhost:8080/"
        },
        "id": "Z4x0jx-w8lpz",
        "outputId": "99d76036-4f70-4958-97f4-575068c55b42"
      },
      "execution_count": null,
      "outputs": [
        {
          "output_type": "stream",
          "name": "stdout",
          "text": [
            "오늘은 6월 26일입니다\n"
          ]
        }
      ]
    },
    {
      "cell_type": "code",
      "source": [
        "name = '홍길동'\n",
        "age = 20.5\n",
        "#이름은        홍길동이고 나이는 20.50입니다.\n",
        "# use format()\n",
        "print(\"이름은 {:>10s}이고 나이는 {:.2f}입니다.\".format(name,age))"
      ],
      "metadata": {
        "colab": {
          "base_uri": "https://localhost:8080/"
        },
        "id": "LC6biJ3p9PKL",
        "outputId": "4d3524dc-f75d-40d1-e9f3-d1f11c56330f"
      },
      "execution_count": null,
      "outputs": [
        {
          "output_type": "stream",
          "name": "stdout",
          "text": [
            "이름은        홍길동이고 나이는 20.50입니다.\n"
          ]
        }
      ]
    },
    {
      "cell_type": "code",
      "source": [
        "#Program 2.6\n",
        "#variable_demo1.py\n",
        "#하나의 변수를 활용하는 코드입니다.\n",
        "Lab = 105\n",
        "print('우리가 수업하는 실습실:')\n",
        "print(Lab)"
      ],
      "metadata": {
        "colab": {
          "base_uri": "https://localhost:8080/"
        },
        "id": "EFuuuv_1BwJU",
        "outputId": "c5ffd7f3-dc74-43ac-992a-b3a784ac1c53"
      },
      "execution_count": null,
      "outputs": [
        {
          "output_type": "stream",
          "name": "stdout",
          "text": [
            "우리가 수업하는 실습실:\n",
            "105\n"
          ]
        }
      ]
    },
    {
      "cell_type": "code",
      "source": [
        "#Program 2.7\n",
        "#variable_demo2.py\n",
        "#하나의 변수를 활용하는 코드입니다.\n",
        "Lab = 105\n",
        "print('우리가 수업하는 실습실:')\n",
        "print(Lab)"
      ],
      "metadata": {
        "colab": {
          "base_uri": "https://localhost:8080/"
        },
        "id": "qYoraUboCKz9",
        "outputId": "c6b57281-4448-4c92-8cf7-a939fa07792e"
      },
      "execution_count": null,
      "outputs": [
        {
          "output_type": "stream",
          "name": "stdout",
          "text": [
            "우리가 수업하는 실습실:\n",
            "105\n"
          ]
        }
      ]
    },
    {
      "cell_type": "code",
      "source": [
        "#Program 2.8\n",
        "# variable_demo3.py\n",
        "#변수 두 개를 생성하고 값을 할당\n",
        "my_id = 201500011\n",
        "grade = 3\n",
        "# 두 변수에 할당된 값을 출력\n",
        "print(\"나의 학번:\")\n",
        "print(my_id)\n",
        "print(\"나의 학년:\")\n",
        "print(grade)"
      ],
      "metadata": {
        "colab": {
          "base_uri": "https://localhost:8080/"
        },
        "id": "p_-ZdYU2CxjM",
        "outputId": "27c8f1a0-3f32-4e8b-ccbe-3239e3503ac0"
      },
      "execution_count": 57,
      "outputs": [
        {
          "output_type": "stream",
          "name": "stdout",
          "text": [
            "나의 학번:\n",
            "201500011\n",
            "나의 학년:\n",
            "3\n"
          ]
        }
      ]
    },
    {
      "cell_type": "code",
      "source": [
        "# Program 2.9\n",
        "# variable_demo4.py\n",
        "# 변수에 값을 할당하고 출력\n",
        "# dollars 변수에 값을 할당\n",
        "dollars = 2.75\n",
        "print('I have', dollars, 'in my account.')\n",
        "#dollars에 새 값 할당\n",
        "dollars = 333.33\n",
        "print('I have', dollars, 'in my account.')"
      ],
      "metadata": {
        "colab": {
          "base_uri": "https://localhost:8080/"
        },
        "id": "7BkXecA5DSdG",
        "outputId": "83d196c6-2411-47c1-b20c-fcf59855bb18"
      },
      "execution_count": 58,
      "outputs": [
        {
          "output_type": "stream",
          "name": "stdout",
          "text": [
            "I have 2.75 in my account.\n",
            "I have 333.33 in my account.\n"
          ]
        }
      ]
    },
    {
      "cell_type": "code",
      "source": [
        "# Program 2.10\n",
        "# string_variable.py\n",
        "# 두 개의 변수 생성 후 문자열 할당\n",
        "department = \"국어국문학과\"\n",
        "name = '홍길동'\n",
        "#문자열 값 출력\n",
        "print(department, name)"
      ],
      "metadata": {
        "colab": {
          "base_uri": "https://localhost:8080/"
        },
        "id": "pkkE7ocBECud",
        "outputId": "6204d7d8-b2fd-452c-a89f-86c5838d9e81"
      },
      "execution_count": 59,
      "outputs": [
        {
          "output_type": "stream",
          "name": "stdout",
          "text": [
            "국어국문학과 홍길동\n"
          ]
        }
      ]
    },
    {
      "cell_type": "code",
      "source": [
        "#Program 2.11\n",
        "#string_input.py\n",
        "department = input('학과명:')\n",
        "name = input('이름:')\n",
        "print('안녕하세요? 저는', department, name, '입니다.')"
      ],
      "metadata": {
        "colab": {
          "base_uri": "https://localhost:8080/"
        },
        "id": "XQoyy56mEmT_",
        "outputId": "6b7feacc-9303-41f4-fe5b-770c25d59432"
      },
      "execution_count": 62,
      "outputs": [
        {
          "output_type": "stream",
          "name": "stdout",
          "text": [
            "학과명:수학과\n",
            "이름:민준규\n",
            "안녕하세요? 저는 수학과 민준규 입니다.\n"
          ]
        }
      ]
    },
    {
      "cell_type": "code",
      "source": [
        "#Program 2.12 input.py\n",
        "name = input('당신의 이름은 무엇입니까?')\n",
        "age = input('당신의 나이는 얼마입니까?')\n",
        "attending_time = float(input('당신의 통학시간은 몇 시간입니까?'))\n",
        "print('이름:',name)\n",
        "print('나이:',age)\n",
        "print('통학시간:',attending_time)"
      ],
      "metadata": {
        "colab": {
          "base_uri": "https://localhost:8080/"
        },
        "id": "QnMQh-b4FF_m",
        "outputId": "7d667eb0-834b-4a1e-e848-165466370ed8"
      },
      "execution_count": 64,
      "outputs": [
        {
          "output_type": "stream",
          "name": "stdout",
          "text": [
            "당신의 이름은 무엇입니까?홍길\n",
            "당신의 나이는 얼마입니까?223\n",
            "당신의 통학시간은 몇 시간입니까?2.1\n",
            "이름: 홍길\n",
            "나이: 223\n",
            "통학시간: 2.1\n"
          ]
        }
      ]
    },
    {
      "cell_type": "code",
      "source": [
        "# Program 2.13 simple_math.py\n",
        "# salary: 급여\n",
        "salary = 2500.00\n",
        "# bonus: 보너스\n",
        "bonus = 1200.00\n",
        "#총 급여(pay) 구하기\n",
        "pay = salary + bonus\n",
        "print('총 급여:',pay)"
      ],
      "metadata": {
        "colab": {
          "base_uri": "https://localhost:8080/"
        },
        "id": "Tlwuu9HyF17W",
        "outputId": "c0b8f63b-fb33-43a7-f08f-d2075c68aa12"
      },
      "execution_count": 65,
      "outputs": [
        {
          "output_type": "stream",
          "name": "stdout",
          "text": [
            "총 급여: 3700.0\n"
          ]
        }
      ]
    },
    {
      "cell_type": "code",
      "source": [
        "#Program 2.14 sale_price.py\n",
        "#원가에 할인율을 적용해 할인가격 계산하기\n",
        "original_price = float(input('제품의 원가를 입력하세요:'))\n",
        "discount = original_price * 0.2\n",
        "sale_price = original_price - discount\n",
        "print('할인 가격:', sale_price)"
      ],
      "metadata": {
        "colab": {
          "base_uri": "https://localhost:8080/"
        },
        "id": "6Dy-QKrxGTLG",
        "outputId": "eb4df084-84e1-492f-df38-b0b4b2d95c15"
      },
      "execution_count": 68,
      "outputs": [
        {
          "output_type": "stream",
          "name": "stdout",
          "text": [
            "제품의 원가를 입력하세요:100\n",
            "할인 가격: 80.0\n"
          ]
        }
      ]
    },
    {
      "cell_type": "code",
      "source": [
        "#Program 2.15 test_score_average.py\n",
        "#세 과목의 평가 점수를 입력하고 test1, test2, test3 변수에 각각 할당 후, 평균을 계산해 average 변수에 할당한다.\n",
        "test1 = float(input('첫 번째 과목 점수:'))\n",
        "test2 = float(input('두 번째 과목 점수:'))\n",
        "test3 = float(input('세 번째 과목 점수:'))\n",
        "average = (test1 + test2 + test3)/3.0\n",
        "print('세 과목의 평균 점수:',average)"
      ],
      "metadata": {
        "colab": {
          "base_uri": "https://localhost:8080/"
        },
        "id": "iAq06ItZGz4d",
        "outputId": "c923e3cb-83d5-4833-c635-7116b10772c2"
      },
      "execution_count": 69,
      "outputs": [
        {
          "output_type": "stream",
          "name": "stdout",
          "text": [
            "첫 번째 과목 점수:200\n",
            "두 번째 과목 점수:251\n",
            "세 번째 과목 점수:222\n",
            "세 과목의 평균 점수: 224.33333333333334\n"
          ]
        }
      ]
    },
    {
      "cell_type": "code",
      "source": [
        "#Program 2.16 time_converter.py\n",
        "#초를 입력받아 시, 분, 초로 변환하기\n",
        "total_seconds = float(input('시간 값을 초단위로 입력하라:'))\n",
        "hours = total_seconds//3600\n",
        "minutes = (total_seconds//60)%60\n",
        "seconds = total_seconds % 60\n",
        "print('시, 분, 초는 다음과 같다,')\n",
        "print('시:',hours)\n",
        "print('분:',minutes)\n",
        "print('초:',seconds)"
      ],
      "metadata": {
        "colab": {
          "base_uri": "https://localhost:8080/"
        },
        "id": "2k_6Zmi4HY8H",
        "outputId": "484e9b81-b283-43ee-ae76-24331dea9d9e"
      },
      "execution_count": 73,
      "outputs": [
        {
          "output_type": "stream",
          "name": "stdout",
          "text": [
            "시간 값을 초단위로 입력하라:3665\n",
            "시, 분, 초는 다음과 같다,\n",
            "시: 1.0\n",
            "분: 1.0\n",
            "초: 5.0\n"
          ]
        }
      ]
    },
    {
      "cell_type": "code",
      "source": [
        "#Program 2.17 future_value.py\n",
        "#목표액을 특정 이율로 얻고자 할 경우 매년 적립해야할 금액 계산하기\n",
        "future_value = float((input('목표 금액:')))\n",
        "rate = float(input('연간 이율:'))\n",
        "years = int(input('저축 기간(연단위):'))\n",
        "present_value = future_value / (1.0 + rate)**years\n",
        "print(\"적립 금액:\",present_value)"
      ],
      "metadata": {
        "colab": {
          "base_uri": "https://localhost:8080/"
        },
        "id": "7hiRJLThIwT3",
        "outputId": "2c3d57c7-bef4-479b-c79a-e3966c733335"
      },
      "execution_count": 74,
      "outputs": [
        {
          "output_type": "stream",
          "name": "stdout",
          "text": [
            "목표 금액:10000.0\n",
            "연간 이율:0.05\n",
            "저축 기간(연단위):10\n",
            "적립 금액: 6139.132535407592\n"
          ]
        }
      ]
    },
    {
      "cell_type": "code",
      "source": [
        "#Program 2.18 separator.py\n",
        "#자동적으로 분리되는 빈 칸을 sep 옵션으로 제어\n",
        "print('a', 'b', 'c')\n",
        "print('a', 'b', 'c',sep='')\n",
        "print('a','b','c',sep='***')"
      ],
      "metadata": {
        "colab": {
          "base_uri": "https://localhost:8080/"
        },
        "id": "pvLrkTMTJbGv",
        "outputId": "b66fa52c-258c-4f4a-e3c6-ceafe0055fd2"
      },
      "execution_count": 76,
      "outputs": [
        {
          "output_type": "stream",
          "name": "stdout",
          "text": [
            "a b c\n",
            "abc\n",
            "a***b***c\n"
          ]
        }
      ]
    },
    {
      "cell_type": "code",
      "source": [
        "#Program 2.19 end.py\n",
        "#커서 줄바꿈을 시키지 않고 바로 옆에 놓고 여러 print() 함수 내용 나타내기\n",
        "#end 옵션\n",
        "print('a')\n",
        "print('b')\n",
        "print('c',end='')\n",
        "print('d',end='')\n",
        "print('e',end='****')\n",
        "print('f')"
      ],
      "metadata": {
        "colab": {
          "base_uri": "https://localhost:8080/"
        },
        "id": "lHmiGiZKJv6W",
        "outputId": "d9843164-2f2c-4357-f35c-02ae3fccf9e8"
      },
      "execution_count": 77,
      "outputs": [
        {
          "output_type": "stream",
          "name": "stdout",
          "text": [
            "a\n",
            "b\n",
            "cde****f\n"
          ]
        }
      ]
    },
    {
      "cell_type": "code",
      "source": [
        "#Program 2.20 no_formatting.py\n",
        "#부동 소수점이 출력되는 연산 수행\n",
        "# 소수점 길이를 제어하지 않고 결과값을 출력한다\n",
        "amount_due = 5000.0\n",
        "monthly_payment = amount_due / 12.0\n",
        "print('월급여:', monthly_payment)"
      ],
      "metadata": {
        "colab": {
          "base_uri": "https://localhost:8080/"
        },
        "id": "8wrV3i0aKOqg",
        "outputId": "e81d5de3-937f-4af6-d3df-21ec0f1abb02"
      },
      "execution_count": 78,
      "outputs": [
        {
          "output_type": "stream",
          "name": "stdout",
          "text": [
            "월급여: 416.6666666666667\n"
          ]
        }
      ]
    },
    {
      "cell_type": "code",
      "source": [
        "#Program 2.21 formatting.py\n",
        "#소수점 길이를 제어하여 출력하기\n",
        "amount_due = 5000.0\n",
        "monthly_payment = amount_due / 12\n",
        "print('월급여:', format(monthly_payment, '.2f'))"
      ],
      "metadata": {
        "colab": {
          "base_uri": "https://localhost:8080/"
        },
        "id": "Ns64so6cKj-3",
        "outputId": "5aed1a4c-3330-428b-9720-5053afe53841"
      },
      "execution_count": 80,
      "outputs": [
        {
          "output_type": "stream",
          "name": "stdout",
          "text": [
            "월급여: 416.67\n"
          ]
        }
      ]
    },
    {
      "cell_type": "code",
      "source": [
        "#Program 2.22 dollar_display.py\n",
        "monthly_pay = 5000.0\n",
        "annual_pay = monthly_pay *12\n",
        "print('Your annual pay is $',format(annual_pay, '.2f'),sep='')"
      ],
      "metadata": {
        "colab": {
          "base_uri": "https://localhost:8080/"
        },
        "id": "wcTLPAo_Kson",
        "outputId": "9b7c13fe-87ac-432b-f7b7-e9ca31d4341d"
      },
      "execution_count": 81,
      "outputs": [
        {
          "output_type": "stream",
          "name": "stdout",
          "text": [
            "Your annual pay is $60000.00\n"
          ]
        }
      ]
    },
    {
      "cell_type": "code",
      "source": [
        "#Program 2.23 columns.py\n",
        "#부동 소수점을 특정 너비에 맞추어 출력하기\n",
        "num1 = 127.899\n",
        "num2 = 3465.138\n",
        "num3 = 3.776\n",
        "num4 = 264.821\n",
        "num5 = 88.081\n",
        "num6 = 799.999\n",
        "\n",
        "print(format(num1, '7.2f'))\n",
        "print(format(num2, '7.2f'))\n",
        "print(format(num3, '7.2f'))\n",
        "print(format(num4, '7.2f'))\n",
        "print(format(num5, '7.2f'))\n",
        "print(format(num6, '7.2f'))"
      ],
      "metadata": {
        "colab": {
          "base_uri": "https://localhost:8080/"
        },
        "id": "90myQJr3LRHo",
        "outputId": "c7433b08-5128-4fde-9572-b1db3846b9e0"
      },
      "execution_count": 82,
      "outputs": [
        {
          "output_type": "stream",
          "name": "stdout",
          "text": [
            " 127.90\n",
            "3465.14\n",
            "   3.78\n",
            " 264.82\n",
            "  88.08\n",
            " 800.00\n"
          ]
        }
      ]
    }
  ]
}