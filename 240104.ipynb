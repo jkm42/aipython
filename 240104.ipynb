{
  "nbformat": 4,
  "nbformat_minor": 0,
  "metadata": {
    "colab": {
      "provenance": [],
      "authorship_tag": "ABX9TyM28lgZlW+6K4YX2PTcIcmu"
    },
    "kernelspec": {
      "name": "python3",
      "display_name": "Python 3"
    },
    "language_info": {
      "name": "python"
    }
  },
  "cells": [
    {
      "cell_type": "code",
      "execution_count": 2,
      "metadata": {
        "colab": {
          "base_uri": "https://localhost:8080/"
        },
        "id": "FlHK5sBCAX_3",
        "outputId": "84ffde8c-0944-4453-f3a5-bcc1bffa9396"
      },
      "outputs": [
        {
          "output_type": "stream",
          "name": "stdout",
          "text": [
            "1\n",
            "2\n",
            "3\n",
            "4\n",
            "5\n",
            "6\n",
            "7\n",
            "8\n",
            "9\n",
            "10\n"
          ]
        }
      ],
      "source": [
        "#while\n",
        "i = 1\n",
        "while i <= 10:\n",
        "  print(i)\n",
        "  i += 1"
      ]
    },
    {
      "cell_type": "code",
      "source": [
        "i = 10\n",
        "while i>=1:\n",
        "  print(i)\n",
        "  i -= 1"
      ],
      "metadata": {
        "colab": {
          "base_uri": "https://localhost:8080/"
        },
        "id": "G8QWp3E2D93-",
        "outputId": "d7f774a5-4c68-43c7-e05f-381eb004e455"
      },
      "execution_count": 3,
      "outputs": [
        {
          "output_type": "stream",
          "name": "stdout",
          "text": [
            "10\n",
            "9\n",
            "8\n",
            "7\n",
            "6\n",
            "5\n",
            "4\n",
            "3\n",
            "2\n",
            "1\n"
          ]
        }
      ]
    },
    {
      "cell_type": "code",
      "source": [
        "# continue, break\n",
        "for i in range(5):\n",
        "  if i%2 == 1:\n",
        "    continue\n",
        "  print(i)\n",
        "print('===========')\n",
        "for i in range(5):\n",
        "  if i%2 == 1:\n",
        "    break\n",
        "  print(i)"
      ],
      "metadata": {
        "colab": {
          "base_uri": "https://localhost:8080/"
        },
        "id": "8FL_RbWXFK7k",
        "outputId": "ee067d1d-a857-4899-8bf5-1263e1f8b210"
      },
      "execution_count": 8,
      "outputs": [
        {
          "output_type": "stream",
          "name": "stdout",
          "text": [
            "0\n",
            "2\n",
            "4\n",
            "===========\n",
            "0\n"
          ]
        }
      ]
    },
    {
      "cell_type": "code",
      "source": [
        "a=1\n",
        "while(a<=3): # while a <= 3 or while a < 4\n",
        "  print('안녕',a)\n",
        "  a += 1 # a = a + 1"
      ],
      "metadata": {
        "colab": {
          "base_uri": "https://localhost:8080/"
        },
        "id": "S9jnawWJFto-",
        "outputId": "ac7c1f43-8fff-4e37-e4a5-b9640c228765"
      },
      "execution_count": 13,
      "outputs": [
        {
          "output_type": "stream",
          "name": "stdout",
          "text": [
            "안녕 1\n",
            "안녕 2\n",
            "안녕 3\n"
          ]
        }
      ]
    },
    {
      "cell_type": "code",
      "source": [
        "i = 1\n",
        "j = 3\n",
        "while i<=4:\n",
        "  print(i,\"Welcome\")\n",
        "  for k in range(j):\n",
        "    print(k+1,\"Hello\")\n",
        "  i += 1\n",
        "print(\"Done\")"
      ],
      "metadata": {
        "colab": {
          "base_uri": "https://localhost:8080/"
        },
        "id": "ewQN9nENIOvt",
        "outputId": "5c8d7a8c-bcfa-456b-b443-895a4e88f081"
      },
      "execution_count": 27,
      "outputs": [
        {
          "output_type": "stream",
          "name": "stdout",
          "text": [
            "1 Welcome\n",
            "1 Hello\n",
            "2 Hello\n",
            "3 Hello\n",
            "2 Welcome\n",
            "1 Hello\n",
            "2 Hello\n",
            "3 Hello\n",
            "3 Welcome\n",
            "1 Hello\n",
            "2 Hello\n",
            "3 Hello\n",
            "4 Welcome\n",
            "1 Hello\n",
            "2 Hello\n",
            "3 Hello\n",
            "Done\n"
          ]
        }
      ]
    },
    {
      "cell_type": "code",
      "source": [
        "i = 1\n",
        "while i<=4:\n",
        "  print(i,\"Welcome\")\n",
        "  for j in range(3):\n",
        "    print(j+1,\"Hello\")\n",
        "  i += 1\n",
        "print(\"Done\")"
      ],
      "metadata": {
        "colab": {
          "base_uri": "https://localhost:8080/"
        },
        "id": "BdbSNzW3OAKG",
        "outputId": "3814d34d-9a75-4f5c-c568-0111a6438dc1"
      },
      "execution_count": 37,
      "outputs": [
        {
          "output_type": "stream",
          "name": "stdout",
          "text": [
            "1 Welcome\n",
            "1 Hello\n",
            "2 Hello\n",
            "3 Hello\n",
            "2 Welcome\n",
            "1 Hello\n",
            "2 Hello\n",
            "3 Hello\n",
            "3 Welcome\n",
            "1 Hello\n",
            "2 Hello\n",
            "3 Hello\n",
            "4 Welcome\n",
            "1 Hello\n",
            "2 Hello\n",
            "3 Hello\n",
            "Done\n"
          ]
        }
      ]
    },
    {
      "cell_type": "code",
      "source": [
        "A,B,C=map(int,input().split())\n",
        "if B<A and A<C or C<A and A<B:\n",
        "  print(A)\n",
        "elif A<B and B<C or C<B and B<A:\n",
        "  print(B)\n",
        "else:\n",
        "  print(C)"
      ],
      "metadata": {
        "colab": {
          "base_uri": "https://localhost:8080/"
        },
        "id": "s1AjbwIMMjiV",
        "outputId": "00fd3555-0b1a-4856-a7af-209d4686f9f8"
      },
      "execution_count": 36,
      "outputs": [
        {
          "output_type": "stream",
          "name": "stdout",
          "text": [
            "1 203 20000\n",
            "203\n"
          ]
        }
      ]
    },
    {
      "cell_type": "code",
      "source": [
        "#list\n",
        "A,B,C=map(int,input().split())\n",
        "nums=[A,B,C]\n",
        "print(nums[1])"
      ],
      "metadata": {
        "colab": {
          "base_uri": "https://localhost:8080/"
        },
        "id": "rHZo5ob9OfE_",
        "outputId": "fabafd5b-a1dd-4517-d377-04e695dcff58"
      },
      "execution_count": 40,
      "outputs": [
        {
          "output_type": "stream",
          "name": "stdout",
          "text": [
            "201 111 555\n",
            "111\n"
          ]
        }
      ]
    },
    {
      "cell_type": "code",
      "source": [
        "# list, tuple\n",
        "nums=[1,2,3] #list\n",
        "num=(1,2,3) #tuple\n",
        "\n",
        "nums[1]=0\n",
        "print(nums)\n",
        "\n",
        "#num[1]=0 cannot\n",
        "print(num)"
      ],
      "metadata": {
        "colab": {
          "base_uri": "https://localhost:8080/"
        },
        "id": "BOqc8ZbxP3vO",
        "outputId": "c361f150-3760-47bf-c9e0-515b4e570475"
      },
      "execution_count": 44,
      "outputs": [
        {
          "output_type": "stream",
          "name": "stdout",
          "text": [
            "[1, 0, 3]\n",
            "(1, 2, 3)\n"
          ]
        }
      ]
    },
    {
      "cell_type": "code",
      "source": [
        "x=[10,20,30,40]\n",
        "print(x)\n",
        "print(x[0],x[3])\n",
        "print(x[1:3])"
      ],
      "metadata": {
        "colab": {
          "base_uri": "https://localhost:8080/"
        },
        "id": "ZqtigtQ9Uxae",
        "outputId": "ec993c24-2e00-44e3-b2b2-1cb3361fe561"
      },
      "execution_count": 45,
      "outputs": [
        {
          "output_type": "stream",
          "name": "stdout",
          "text": [
            "[10, 20, 30, 40]\n",
            "10 40\n",
            "[20, 30]\n"
          ]
        }
      ]
    },
    {
      "cell_type": "code",
      "source": [
        "score= [[29, 28, 27, 30],\n",
        "[30, 20, 27, 29],\n",
        "[23, 25, 29, 30]]\n",
        "for r in range(3):\n",
        "  for c in range(4):\n",
        "    print(score[r][c], end=\" \")\n",
        "  print()\n",
        "\n",
        "print('-----------')\n",
        "\n",
        "# use len function\n",
        "for r in range(len(score)):\n",
        "  for c in range(len(score[r])):\n",
        "    print(score[r][c], end=\" \")\n",
        "  print()"
      ],
      "metadata": {
        "colab": {
          "base_uri": "https://localhost:8080/"
        },
        "id": "qOAB2nz1Z4VN",
        "outputId": "499977b5-358b-40bd-93f6-e5ba24fcdbf0"
      },
      "execution_count": 55,
      "outputs": [
        {
          "output_type": "stream",
          "name": "stdout",
          "text": [
            "29 28 27 30 \n",
            "30 20 27 29 \n",
            "23 25 29 30 \n",
            "-----------\n",
            "29 28 27 30 \n",
            "30 20 27 29 \n",
            "23 25 29 30 \n"
          ]
        }
      ]
    },
    {
      "cell_type": "code",
      "source": [
        "#tuple\n",
        "days_of_week = ('Monday','Tuesday','Wednesday','Thursday','Friday','Saturday','Sunday')\n",
        "print(days_of_week)"
      ],
      "metadata": {
        "colab": {
          "base_uri": "https://localhost:8080/"
        },
        "id": "5EjC2fhycHcP",
        "outputId": "75131d39-049a-4061-8190-a596d7343292"
      },
      "execution_count": 57,
      "outputs": [
        {
          "output_type": "stream",
          "name": "stdout",
          "text": [
            "('Monday', 'Tuesday', 'Wednesday', 'Thursday', 'Friday', 'Saturday', 'Sunday')\n"
          ]
        }
      ]
    },
    {
      "cell_type": "code",
      "source": [
        "#dictionary\n",
        "nicknames = {'Jack':'Jackass', 'Dave':'Mental', 'Patrick':'Ick'} # key : value\n",
        "print(nicknames['Jack'])\n",
        "for n in nicknames:\n",
        "  print(n, nicknames[n])"
      ],
      "metadata": {
        "colab": {
          "base_uri": "https://localhost:8080/"
        },
        "id": "JRd-52O_cUaY",
        "outputId": "f57e667c-2625-47b2-d722-e8f9979dd73d"
      },
      "execution_count": 61,
      "outputs": [
        {
          "output_type": "stream",
          "name": "stdout",
          "text": [
            "Jackass\n",
            "Jack Jackass\n",
            "Dave Mental\n",
            "Patrick Ick\n"
          ]
        }
      ]
    },
    {
      "cell_type": "code",
      "source": [
        "#과제\n",
        "score1 = int(input('학생의 점수를 입력하세요.'))\n",
        "score2 = int(input('학생의 점수를 입력하세요.'))\n",
        "score3 = int(input('학생의 점수를 입력하세요.'))\n",
        "score_list = [score1, score2, score3]\n",
        "\n",
        "#def score(a,b,c):\n",
        "#  s = a+b+c\n",
        "#  n = len(score_list)\n",
        "#  m = s/n\n",
        "#  return s,n,m\n",
        "#score(score1,score2,score3)\n",
        "print('입력 데이터 출력:',score_list)\n",
        "print('합계:',sum(score_list))\n",
        "print('인원수:',len(score_list))\n",
        "print('평균:',sum(score_list)/len(score_list))"
      ],
      "metadata": {
        "colab": {
          "base_uri": "https://localhost:8080/"
        },
        "id": "3etuaFnKdPtH",
        "outputId": "d849128e-017a-4025-9820-e5a7ffe3d279"
      },
      "execution_count": 74,
      "outputs": [
        {
          "output_type": "stream",
          "name": "stdout",
          "text": [
            "학생의 점수를 입력하세요.90\n",
            "학생의 점수를 입력하세요.70\n",
            "학생의 점수를 입력하세요.30\n",
            "입력 데이터 출력: [90, 70, 30]\n",
            "합계: 190\n",
            "인원수: 3\n",
            "평균: 63.333333333333336\n"
          ]
        }
      ]
    }
  ]
}