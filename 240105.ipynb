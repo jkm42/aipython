{
  "nbformat": 4,
  "nbformat_minor": 0,
  "metadata": {
    "colab": {
      "provenance": [],
      "authorship_tag": "ABX9TyMw5D5uGCXSu9aHuG5yPP2c"
    },
    "kernelspec": {
      "name": "python3",
      "display_name": "Python 3"
    },
    "language_info": {
      "name": "python"
    }
  },
  "cells": [
    {
      "cell_type": "code",
      "execution_count": 5,
      "metadata": {
        "colab": {
          "base_uri": "https://localhost:8080/"
        },
        "id": "Nf4PyHbVMCod",
        "outputId": "2ef8cf75-d5ce-4ae3-b6f5-16358b67281b"
      },
      "outputs": [
        {
          "output_type": "stream",
          "name": "stdout",
          "text": [
            "['John,30,Engineer', 'Alice,25,Designer', 'Bob,22,Artist']\n",
            "Name: John Age: 30 Occupatoin: Engineer\n",
            "Name: Alice Age: 25 Occupatoin: Designer\n",
            "Name: Bob Age: 22 Occupatoin: Artist\n"
          ]
        }
      ],
      "source": [
        "#split\n",
        "data = \"John,30,Engineer\\nAlice,25,Designer\\nBob,22,Artist\"\n",
        "lines = data.split(\"\\n\")\n",
        "print(lines)\n",
        "\n",
        "for line in lines:\n",
        "  fields = line.split(\",\")\n",
        "  print('Name:',fields[0],'Age:',fields[1],'Occupatoin:',fields[2])"
      ]
    },
    {
      "cell_type": "code",
      "source": [
        "#join\n",
        "words = ['Hello','world','this','is','a','test']\n",
        "sentence = ' '.join(words)\n",
        "print(sentence)"
      ],
      "metadata": {
        "colab": {
          "base_uri": "https://localhost:8080/"
        },
        "id": "kW5wOwrbPTYF",
        "outputId": "91e1c8b6-ed74-40d5-dc79-dbfabc4b44f6"
      },
      "execution_count": 7,
      "outputs": [
        {
          "output_type": "stream",
          "name": "stdout",
          "text": [
            "Hello world this is a test\n"
          ]
        }
      ]
    },
    {
      "cell_type": "code",
      "source": [
        "# split example\n",
        "a = 'Geeks for Geeks'\n",
        "b = a.split(\" \")\n",
        "print(b)\n",
        "\n",
        "#join example\n",
        "c = ['Geeks','for','Geeks']\n",
        "d = '-'.join(c)\n",
        "print(d)"
      ],
      "metadata": {
        "colab": {
          "base_uri": "https://localhost:8080/"
        },
        "id": "OHfDEj_nPuwI",
        "outputId": "fafcc7e0-9234-409b-eafd-980a0f25c8fe"
      },
      "execution_count": 20,
      "outputs": [
        {
          "output_type": "stream",
          "name": "stdout",
          "text": [
            "['Geeks', 'for', 'Geeks']\n",
            "Geeks-for-Geeks\n"
          ]
        }
      ]
    },
    {
      "cell_type": "code",
      "source": [
        "input_words = input('문장을 써넣으라.:')\n",
        "print(input_words.split(' '))"
      ],
      "metadata": {
        "colab": {
          "base_uri": "https://localhost:8080/"
        },
        "id": "TEdql7ppRMUM",
        "outputId": "514449a2-5063-4ee4-d39c-c04a4f41abc6"
      },
      "execution_count": 21,
      "outputs": [
        {
          "output_type": "stream",
          "name": "stdout",
          "text": [
            "문장을 써넣으라.:geeks for geeks\n",
            "['geeks', 'for', 'geeks']\n"
          ]
        }
      ]
    },
    {
      "cell_type": "code",
      "source": [
        "# list comprehension\n",
        "squares = [x ** 2 for x in range(5)]\n",
        "print(squares)\n",
        "\n",
        "squares2 = [x ** 2 for x in range(5) if x%2==0]\n",
        "print(squares2)\n",
        "\n",
        "#squares3 = [x ** 2 for x in range(5) if x%2==1]\n",
        "#print(squares3)\n",
        "#[1, 9]\n",
        "\n",
        "squares4 = [(x+1)**2 for x in range(20) if (x+1)%3==0]\n",
        "print(squares4)"
      ],
      "metadata": {
        "colab": {
          "base_uri": "https://localhost:8080/"
        },
        "id": "gSeaaTNsSGyO",
        "outputId": "2fecc0bf-1d97-4bc8-9714-0ea5113325d7"
      },
      "execution_count": 30,
      "outputs": [
        {
          "output_type": "stream",
          "name": "stdout",
          "text": [
            "[0, 1, 4, 9, 16]\n",
            "[0, 4, 16]\n",
            "[9, 36, 81, 144, 225, 324]\n"
          ]
        }
      ]
    },
    {
      "cell_type": "code",
      "source": [
        "#Lab\n",
        "numbers = [1,2,3,4,5]\n",
        "square_numbers = [i**2 for i in numbers]\n",
        "print(square_numbers)\n",
        "\n",
        "cities = ['Seoul','New York','London','Shanghai','Paris','Tokyo']\n",
        "cities_s = [i for i in cities if 'S' in i]\n",
        "print(cities_s)"
      ],
      "metadata": {
        "colab": {
          "base_uri": "https://localhost:8080/"
        },
        "id": "HoTTk9PuT6N2",
        "outputId": "76ed0add-ff73-4653-f57e-279980c2d51a"
      },
      "execution_count": 36,
      "outputs": [
        {
          "output_type": "stream",
          "name": "stdout",
          "text": [
            "[1, 4, 9, 16, 25]\n",
            "['Seoul', 'Shanghai']\n"
          ]
        }
      ]
    },
    {
      "cell_type": "code",
      "source": [
        "# enumerate\n",
        "fruits = ['apple', 'banana', 'cherry']\n",
        "for index, fruit in enumerate(fruits):\n",
        "  print(index, fruit)\n",
        "for index, fruit in enumerate(fruits):\n",
        "  print(index+1, fruit)"
      ],
      "metadata": {
        "colab": {
          "base_uri": "https://localhost:8080/"
        },
        "id": "Dj4l_wjbWPid",
        "outputId": "d50f75da-259c-43e3-9809-89713e5fbc56"
      },
      "execution_count": 48,
      "outputs": [
        {
          "output_type": "stream",
          "name": "stdout",
          "text": [
            "0 apple\n",
            "1 banana\n",
            "2 cherry\n",
            "1 apple\n",
            "2 banana\n",
            "3 cherry\n"
          ]
        }
      ]
    },
    {
      "cell_type": "code",
      "source": [
        "#Lab\n",
        "a = input('과일 이름을 쓰시오.:')\n",
        "b = input('다른 과일 이름을 쓰시오:')\n",
        "c = input('또다른 과일 이름을 쓰시오:')\n",
        "fruits = [a,b,c]\n",
        "for index, fruit in enumerate(fruits):\n",
        "  print('fruit',index,' name is',' ',fruit,sep='')"
      ],
      "metadata": {
        "colab": {
          "base_uri": "https://localhost:8080/"
        },
        "id": "qMuMq8PgW6Le",
        "outputId": "cf653935-e95a-4287-a24a-8973144c4e46"
      },
      "execution_count": 54,
      "outputs": [
        {
          "output_type": "stream",
          "name": "stdout",
          "text": [
            "과일 이름을 쓰시오.:apple\n",
            "다른 과일 이름을 쓰시오:pear\n",
            "또다른 과일 이름을 쓰시오:dragon fruit\n",
            "fruit0 name is apple\n",
            "fruit1 name is pear\n",
            "fruit2 name is dragon fruit\n"
          ]
        }
      ]
    },
    {
      "cell_type": "code",
      "source": [
        "fruits = ['a','b','c']\n",
        "for i in range(len(fruits)):\n",
        "  print('fruit',i,' name is ',fruits[i], sep='')"
      ],
      "metadata": {
        "colab": {
          "base_uri": "https://localhost:8080/"
        },
        "id": "kpbckialZf2t",
        "outputId": "97d48c2b-31cd-4d24-f434-0002f8ee6b23"
      },
      "execution_count": 66,
      "outputs": [
        {
          "output_type": "stream",
          "name": "stdout",
          "text": [
            "fruit0 name is a\n",
            "fruit1 name is b\n",
            "fruit2 name is c\n"
          ]
        }
      ]
    },
    {
      "cell_type": "code",
      "source": [
        "#zip\n",
        "names = ['John','Jane','Doe']\n",
        "ages = [25,30,35]\n",
        "\n",
        "for name, age in zip(names,ages):\n",
        "  print(f'{name} is {age} years old')"
      ],
      "metadata": {
        "colab": {
          "base_uri": "https://localhost:8080/"
        },
        "id": "2URhPd2PZT4V",
        "outputId": "488e3f0e-3e7a-4225-faf2-daf8f122d6d4"
      },
      "execution_count": 65,
      "outputs": [
        {
          "output_type": "stream",
          "name": "stdout",
          "text": [
            "John is 25 years old\n",
            "Jane is 30 years old\n",
            "Doe is 35 years old\n"
          ]
        }
      ]
    },
    {
      "cell_type": "code",
      "source": [
        "#zip\n",
        "keys = ['a','b','c']\n",
        "values = [1,2,3]\n",
        "for keys, values in zip(keys,values):\n",
        "  print(f'{keys},{values}')"
      ],
      "metadata": {
        "colab": {
          "base_uri": "https://localhost:8080/"
        },
        "id": "yYaaf1A8aTe9",
        "outputId": "854a8b5d-ef79-4714-b803-54148f2d9889"
      },
      "execution_count": 71,
      "outputs": [
        {
          "output_type": "stream",
          "name": "stdout",
          "text": [
            "a,1\n",
            "b,2\n",
            "c,3\n"
          ]
        }
      ]
    },
    {
      "cell_type": "code",
      "source": [
        "#Lab\n",
        "name = ['M','N','S','A']\n",
        "roll_no = [4,1,3,2]\n",
        "print('{',end='')\n",
        "for name, roll_no in zip(name, roll_no):\n",
        "  print(f'({name},{roll_no})',end='')\n",
        "print('}')\n",
        "\n",
        "names = ['M','R','C']\n",
        "ages = [24,50,18]\n",
        "i = 0\n",
        "for names, ages in zip(names,ages):\n",
        "  print(f'{i} {names} {ages}')\n",
        "  i += 1"
      ],
      "metadata": {
        "colab": {
          "base_uri": "https://localhost:8080/"
        },
        "id": "QcSa2wsHa5Mm",
        "outputId": "e480563d-fba4-45c4-a432-ef50148d4b9b"
      },
      "execution_count": 93,
      "outputs": [
        {
          "output_type": "stream",
          "name": "stdout",
          "text": [
            "{(M,4)(N,1)(S,3)(A,2)}\n",
            "0 M 24\n",
            "1 R 50\n",
            "2 C 18\n"
          ]
        }
      ]
    },
    {
      "cell_type": "code",
      "source": [
        "# lambda\n",
        "double = lambda x: x * 2\n",
        "print(double(5))\n",
        "\n",
        "a = int(input('수 a를 쓰시오:'))\n",
        "print('2a =',double(a))"
      ],
      "metadata": {
        "colab": {
          "base_uri": "https://localhost:8080/"
        },
        "id": "FQ3UmrZkea4l",
        "outputId": "7b6e5f83-cb51-475d-fccb-9550efec7c6e"
      },
      "execution_count": 96,
      "outputs": [
        {
          "output_type": "stream",
          "name": "stdout",
          "text": [
            "10\n",
            "수 a를 쓰시오:3333\n",
            "2a = 6666\n"
          ]
        }
      ]
    },
    {
      "cell_type": "code",
      "source": [
        "# map\n",
        "numbers = [1,2,3,4]\n",
        "squared = list(map(lambda x: x*2, numbers))\n",
        "print(squared)"
      ],
      "metadata": {
        "colab": {
          "base_uri": "https://localhost:8080/"
        },
        "id": "PI2mXPNufRg1",
        "outputId": "44979e0d-2408-4c18-f50c-ae37cc95cf78"
      },
      "execution_count": 97,
      "outputs": [
        {
          "output_type": "stream",
          "name": "stdout",
          "text": [
            "[2, 4, 6, 8]\n"
          ]
        }
      ]
    }
  ]
}